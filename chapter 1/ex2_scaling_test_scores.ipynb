{
 "cells": [
  {
   "cell_type": "code",
   "execution_count": 2,
   "id": "aca9efe6-5eb7-4fc3-9072-7b12002bbe0d",
   "metadata": {},
   "outputs": [],
   "source": [
    "import numpy as np\n",
    "import pandas as pd"
   ]
  },
  {
   "cell_type": "code",
   "execution_count": 3,
   "id": "cfeaec4b-200a-4e3a-a563-9446ffea3828",
   "metadata": {},
   "outputs": [],
   "source": [
    "months = ['sep', 'oct', 'nov', 'dec', 'jan', 'feb', 'mar', 'apr', 'may', 'jun']\n",
    "scores = np.random.default_rng(0)\n",
    "data = scores.integers(40, 60, 10)"
   ]
  },
  {
   "cell_type": "code",
   "execution_count": 6,
   "id": "dce45dd0-5420-4290-81d3-6234379f28d0",
   "metadata": {},
   "outputs": [],
   "source": [
    "ts = pd.Series(data, months)\n",
    "m = ts.mean()\n",
    "dif = 80 - m"
   ]
  },
  {
   "cell_type": "code",
   "execution_count": 7,
   "id": "005bd93f-3c44-429e-8bd3-0131676dbf7e",
   "metadata": {},
   "outputs": [
    {
     "data": {
      "text/plain": [
       "sep    57\n",
       "oct    52\n",
       "nov    50\n",
       "dec    45\n",
       "jan    46\n",
       "feb    40\n",
       "mar    41\n",
       "apr    40\n",
       "may    43\n",
       "jun    56\n",
       "dtype: int64"
      ]
     },
     "execution_count": 7,
     "metadata": {},
     "output_type": "execute_result"
    }
   ],
   "source": [
    "ts"
   ]
  },
  {
   "cell_type": "code",
   "execution_count": 8,
   "id": "eede7e15-b96e-404e-b16e-45c23e2ca375",
   "metadata": {},
   "outputs": [
    {
     "data": {
      "text/plain": [
       "sep    90.0\n",
       "oct    85.0\n",
       "nov    83.0\n",
       "dec    78.0\n",
       "jan    79.0\n",
       "feb    73.0\n",
       "mar    74.0\n",
       "apr    73.0\n",
       "may    76.0\n",
       "jun    89.0\n",
       "dtype: float64"
      ]
     },
     "execution_count": 8,
     "metadata": {},
     "output_type": "execute_result"
    }
   ],
   "source": [
    "ts + dif"
   ]
  },
  {
   "cell_type": "markdown",
   "id": "5685aaf4-df27-48ae-a7e8-856451606e6b",
   "metadata": {},
   "source": [
    "# beyond"
   ]
  },
  {
   "cell_type": "code",
   "execution_count": 28,
   "id": "54f69e34-6537-4fe3-9bde-e33ad3dd03e1",
   "metadata": {},
   "outputs": [],
   "source": [
    "std = ts.std()\n",
    "med = ts.median()"
   ]
  },
  {
   "cell_type": "code",
   "execution_count": 15,
   "id": "84c6a462-8bc5-4ff8-aec6-6bbda2c02590",
   "metadata": {},
   "outputs": [
    {
     "data": {
      "text/plain": [
       "sep    57\n",
       "jun    56\n",
       "dtype: int64"
      ]
     },
     "execution_count": 15,
     "metadata": {},
     "output_type": "execute_result"
    }
   ],
   "source": [
    "# A\n",
    "ts.loc[ts > m + std]"
   ]
  },
  {
   "cell_type": "code",
   "execution_count": 19,
   "id": "fdf2867b-ee8b-452c-bd04-a8e784291110",
   "metadata": {},
   "outputs": [
    {
     "data": {
      "text/plain": [
       "oct    52\n",
       "nov    50\n",
       "dtype: int64"
      ]
     },
     "execution_count": 19,
     "metadata": {},
     "output_type": "execute_result"
    }
   ],
   "source": [
    "# B\n",
    "ts.loc[(ts < m + std) & (ts > m)]"
   ]
  },
  {
   "cell_type": "code",
   "execution_count": 20,
   "id": "254190e1-1db7-4c7a-9d6e-51c5a8149e2e",
   "metadata": {},
   "outputs": [
    {
     "data": {
      "text/plain": [
       "dec    45\n",
       "jan    46\n",
       "mar    41\n",
       "may    43\n",
       "dtype: int64"
      ]
     },
     "execution_count": 20,
     "metadata": {},
     "output_type": "execute_result"
    }
   ],
   "source": [
    "# C\n",
    "ts.loc[(ts > m - std) & (ts < m)]"
   ]
  },
  {
   "cell_type": "code",
   "execution_count": 21,
   "id": "fb94a312-64fc-46a2-a31d-a6092a687107",
   "metadata": {},
   "outputs": [
    {
     "data": {
      "text/plain": [
       "feb    40\n",
       "apr    40\n",
       "dtype: int64"
      ]
     },
     "execution_count": 21,
     "metadata": {},
     "output_type": "execute_result"
    }
   ],
   "source": [
    "# D\n",
    "ts.loc[ts < m - std]"
   ]
  },
  {
   "cell_type": "code",
   "execution_count": 26,
   "id": "1f02849b-2e60-4593-b24d-2f26b9fef623",
   "metadata": {},
   "outputs": [
    {
     "data": {
      "text/plain": [
       "Series([], dtype: int64)"
      ]
     },
     "execution_count": 26,
     "metadata": {},
     "output_type": "execute_result"
    }
   ],
   "source": [
    "# x2 std below or above mean \n",
    "ts.loc[(ts > m + (std * 2)) | (ts < m - (std * 2))]"
   ]
  },
  {
   "cell_type": "code",
   "execution_count": 30,
   "id": "090507e5-9c6e-4cfa-bfa3-e3990ea1b5bf",
   "metadata": {},
   "outputs": [
    {
     "data": {
      "text/plain": [
       "1.5"
      ]
     },
     "execution_count": 30,
     "metadata": {},
     "output_type": "execute_result"
    }
   ],
   "source": [
    "# median mean dif\n",
    "m - med\n",
    "\n",
    "# if they the mean and median were far apart then that would mean the data points are farther apart."
   ]
  }
 ],
 "metadata": {
  "kernelspec": {
   "display_name": "Python 3 (ipykernel)",
   "language": "python",
   "name": "python3"
  },
  "language_info": {
   "codemirror_mode": {
    "name": "ipython",
    "version": 3
   },
   "file_extension": ".py",
   "mimetype": "text/x-python",
   "name": "python",
   "nbconvert_exporter": "python",
   "pygments_lexer": "ipython3",
   "version": "3.12.7"
  }
 },
 "nbformat": 4,
 "nbformat_minor": 5
}
