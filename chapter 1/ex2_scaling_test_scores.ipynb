{
 "cells": [
  {
   "cell_type": "code",
   "execution_count": 17,
   "id": "aca9efe6-5eb7-4fc3-9072-7b12002bbe0d",
   "metadata": {},
   "outputs": [],
   "source": [
    "import numpy as np\n",
    "import pandas as pd"
   ]
  },
  {
   "cell_type": "code",
   "execution_count": 21,
   "id": "cfeaec4b-200a-4e3a-a563-9446ffea3828",
   "metadata": {},
   "outputs": [],
   "source": [
    "months = ['sep', 'oct', 'nov', 'dec', 'jan', 'feb', 'mar', 'apr', 'may', 'jun']\n",
    "scores = np.random.default_rng(0)\n",
    "data = scores.integers(40, 60, 10)"
   ]
  },
  {
   "cell_type": "code",
   "execution_count": 22,
   "id": "dce45dd0-5420-4290-81d3-6234379f28d0",
   "metadata": {},
   "outputs": [],
   "source": [
    "ts = pd.Series(data, months)\n",
    "dif = 80 - ts.mean()"
   ]
  },
  {
   "cell_type": "code",
   "execution_count": 32,
   "id": "005bd93f-3c44-429e-8bd3-0131676dbf7e",
   "metadata": {},
   "outputs": [
    {
     "data": {
      "text/plain": [
       "sep     True\n",
       "oct    False\n",
       "nov    False\n",
       "dec    False\n",
       "jan    False\n",
       "feb    False\n",
       "mar    False\n",
       "apr    False\n",
       "may    False\n",
       "jun     True\n",
       "dtype: bool"
      ]
     },
     "execution_count": 32,
     "metadata": {},
     "output_type": "execute_result"
    }
   ],
   "source": [
    "m = ts.mean()\n",
    "std = ts.std()\n",
    "ts >= m + std"
   ]
  },
  {
   "cell_type": "code",
   "execution_count": 23,
   "id": "eede7e15-b96e-404e-b16e-45c23e2ca375",
   "metadata": {},
   "outputs": [
    {
     "data": {
      "text/plain": [
       "sep    90.0\n",
       "oct    85.0\n",
       "nov    83.0\n",
       "dec    78.0\n",
       "jan    79.0\n",
       "feb    73.0\n",
       "mar    74.0\n",
       "apr    73.0\n",
       "may    76.0\n",
       "jun    89.0\n",
       "dtype: float64"
      ]
     },
     "execution_count": 23,
     "metadata": {},
     "output_type": "execute_result"
    }
   ],
   "source": [
    "ts_new =  ts + dif\n",
    "ts_new"
   ]
  },
  {
   "cell_type": "code",
   "execution_count": 47,
   "id": "9e2f154c-7a70-4aac-8f94-2cb8b98b9e85",
   "metadata": {},
   "outputs": [
    {
     "ename": "SyntaxError",
     "evalue": "cannot assign to comparison (1911606551.py, line 1)",
     "output_type": "error",
     "traceback": [
      "\u001b[0;36m  Cell \u001b[0;32mIn[47], line 1\u001b[0;36m\u001b[0m\n\u001b[0;31m    ts >= m + std = 'A'\u001b[0m\n\u001b[0m    ^\u001b[0m\n\u001b[0;31mSyntaxError\u001b[0m\u001b[0;31m:\u001b[0m cannot assign to comparison\n"
     ]
    }
   ],
   "source": [
    "ts >= m + std = 'A'"
   ]
  }
 ],
 "metadata": {
  "kernelspec": {
   "display_name": "Python 3 (ipykernel)",
   "language": "python",
   "name": "python3"
  },
  "language_info": {
   "codemirror_mode": {
    "name": "ipython",
    "version": 3
   },
   "file_extension": ".py",
   "mimetype": "text/x-python",
   "name": "python",
   "nbconvert_exporter": "python",
   "pygments_lexer": "ipython3",
   "version": "3.12.7"
  }
 },
 "nbformat": 4,
 "nbformat_minor": 5
}
