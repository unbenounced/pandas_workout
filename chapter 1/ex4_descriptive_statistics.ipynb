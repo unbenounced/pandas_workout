{
 "cells": [
  {
   "cell_type": "code",
   "execution_count": 63,
   "id": "a3a55794-6f5a-4408-a429-5facc7b61a4f",
   "metadata": {},
   "outputs": [],
   "source": [
    "import pandas as pd\n",
    "import numpy as np"
   ]
  },
  {
   "cell_type": "code",
   "execution_count": 67,
   "id": "71638516-22bf-459c-aaab-a97b70bc0087",
   "metadata": {},
   "outputs": [],
   "source": [
    "# mean = 0\n",
    "# standard deviation = 100\n",
    "g = np.random.default_rng(0)\n",
    "s = pd.Series(g.normal(0, 100, 100_000))"
   ]
  },
  {
   "cell_type": "code",
   "execution_count": 68,
   "id": "b3279a94-6df2-494c-85bf-6f38057a271e",
   "metadata": {},
   "outputs": [
    {
     "data": {
      "text/plain": [
       "count    100000.000000\n",
       "mean         -0.090825\n",
       "std         100.013350\n",
       "min        -449.411704\n",
       "25%         -67.292120\n",
       "50%          -0.414699\n",
       "75%          67.636542\n",
       "max         473.195769\n",
       "dtype: float64"
      ]
     },
     "execution_count": 68,
     "metadata": {},
     "output_type": "execute_result"
    }
   ],
   "source": [
    "s.describe()"
   ]
  },
  {
   "cell_type": "code",
   "execution_count": 59,
   "id": "6a7443e1-b91d-4f76-b475-ca3db7679703",
   "metadata": {},
   "outputs": [
    {
     "name": "stdout",
     "output_type": "stream",
     "text": [
      "-0.09082507731206121 mean\n",
      "-0.4146992783863419 median\n",
      "100.01335047331729 standard deviation\n"
     ]
    },
    {
     "data": {
      "text/plain": [
       "473.19576886355287"
      ]
     },
     "execution_count": 59,
     "metadata": {},
     "output_type": "execute_result"
    }
   ],
   "source": [
    "print(s.mean(), 'mean')\n",
    "print(s.median(), 'median')\n",
    "print(s.std(), 'standard deviation')\n",
    "# big difference meaning the data points are spread out\n",
    "s.min()\n",
    "s.max()"
   ]
  },
  {
   "cell_type": "code",
   "execution_count": 60,
   "id": "298cb121-8b46-470b-881a-b05b678cf10a",
   "metadata": {},
   "outputs": [],
   "source": [
    "# replaced the min value with the max value * 5\n",
    "s.loc[s == s.min()] = s.max() * 5"
   ]
  },
  {
   "cell_type": "code",
   "execution_count": 61,
   "id": "7348cd6e-777f-4fa6-874a-3800ae4c9592",
   "metadata": {},
   "outputs": [
    {
     "name": "stdout",
     "output_type": "stream",
     "text": [
      "-0.06267117182870444 new mean\n",
      "-0.4092886611480314 new median\n",
      "100.28277012615435 new standard deviation\n"
     ]
    }
   ],
   "source": [
    "print(s.mean(), 'new mean')\n",
    "print(s.median(), 'new median')\n",
    "print(s.std(), 'new standard deviation')\n",
    "# I saw small change"
   ]
  },
  {
   "cell_type": "code",
   "execution_count": 91,
   "id": "8dad429c-a861-4c8c-848b-554bcfaea173",
   "metadata": {},
   "outputs": [
    {
     "name": "stdout",
     "output_type": "stream",
     "text": [
      "0.68396 1 standard deviation\n",
      "0.95461 2 standard deviations\n",
      "0.99708 3 standard deviations\n"
     ]
    }
   ],
   "source": [
    "# beyond 1\n",
    "print(s.loc[(s > s.mean() - s.std()) & (s < s.mean() + s.std())].count() / s.count(), '1 standard deviation')\n",
    "print(s.loc[(s > s.mean() - s.std()*2) & (s < s.mean() + s.std()*2)].count() / s.count(), '2 standard deviations')\n",
    "print(s.loc[(s > s.mean() - s.std()*3) & (s < s.mean() + s.std()*3)].count() / s.count(), '3 standard deviations')"
   ]
  },
  {
   "cell_type": "code",
   "execution_count": 99,
   "id": "3ce28e47-0e58-4cad-b4f1-12f25cc17da5",
   "metadata": {},
   "outputs": [
    {
     "name": "stdout",
     "output_type": "stream",
     "text": [
      "0.12941477214831565 mean combined\n",
      "-0.09082507731206121 s.mean\n"
     ]
    }
   ],
   "source": [
    "# beyond 2\n",
    "mam = s.loc[s > s.mean()].mean()\n",
    "mbm = s.loc[s < s.mean()].mean()\n",
    "print((mam + mbm) / 2, 'mean combined')\n",
    "print(s.mean(), 's.mean')\n",
    "# not the same"
   ]
  },
  {
   "cell_type": "code",
   "execution_count": 104,
   "id": "d900ddec-4ffd-43df-9942-8062f36c0e19",
   "metadata": {},
   "outputs": [
    {
     "data": {
      "text/plain": [
       "-11.606040282602287"
      ]
     },
     "execution_count": 104,
     "metadata": {},
     "output_type": "execute_result"
    }
   ],
   "source": [
    "# beyond 3\n",
    "s.loc[(s > s.mean() + s.std() * 3) | (s < s.mean() - s.std() * 3)].mean()"
   ]
  }
 ],
 "metadata": {
  "kernelspec": {
   "display_name": "Python 3 (ipykernel)",
   "language": "python",
   "name": "python3"
  },
  "language_info": {
   "codemirror_mode": {
    "name": "ipython",
    "version": 3
   },
   "file_extension": ".py",
   "mimetype": "text/x-python",
   "name": "python",
   "nbconvert_exporter": "python",
   "pygments_lexer": "ipython3",
   "version": "3.12.7"
  }
 },
 "nbformat": 4,
 "nbformat_minor": 5
}
