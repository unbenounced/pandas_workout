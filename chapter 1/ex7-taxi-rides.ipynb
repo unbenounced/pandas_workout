{
 "cells": [
  {
   "cell_type": "code",
   "execution_count": 43,
   "id": "3ab8d346-98b7-4627-b7a4-1c0a29e91596",
   "metadata": {},
   "outputs": [],
   "source": [
    "import pandas as pd\n",
    "import numpy as np"
   ]
  },
  {
   "cell_type": "code",
   "execution_count": 44,
   "id": "c4bcdc47-7c56-44b5-a97e-0b5900c80e76",
   "metadata": {},
   "outputs": [],
   "source": [
    "s = pd.read_csv('../data/taxi-distance.csv').squeeze()"
   ]
  },
  {
   "cell_type": "code",
   "execution_count": 45,
   "id": "cc8a97d4-6b05-4332-904a-46fbd65e2b3a",
   "metadata": {},
   "outputs": [
    {
     "data": {
      "text/plain": [
       "0    0.46\n",
       "1    0.87\n",
       "2    2.13\n",
       "3    1.40\n",
       "4    1.40\n",
       "Name: 1.63, dtype: float64"
      ]
     },
     "execution_count": 45,
     "metadata": {},
     "output_type": "execute_result"
    }
   ],
   "source": [
    "s.head()"
   ]
  },
  {
   "cell_type": "code",
   "execution_count": 28,
   "id": "6becb676-1057-417c-a8b0-6d92deffd9de",
   "metadata": {},
   "outputs": [],
   "source": [
    "a = s.astype(str)"
   ]
  },
  {
   "cell_type": "code",
   "execution_count": 46,
   "id": "c8e269af-378e-41a0-b42e-427af078532c",
   "metadata": {},
   "outputs": [],
   "source": [
    "b = s.astype(str)"
   ]
  },
  {
   "cell_type": "code",
   "execution_count": 49,
   "id": "61deb1a4-ce60-4e52-be3b-0ed88851ceb0",
   "metadata": {},
   "outputs": [],
   "source": [
    "b.loc[:] = 'medium'"
   ]
  },
  {
   "cell_type": "code",
   "execution_count": 52,
   "id": "b339b530-ba23-4e44-8407-14029261f877",
   "metadata": {},
   "outputs": [],
   "source": [
    "b.loc[s<=2] = 'short'"
   ]
  },
  {
   "cell_type": "code",
   "execution_count": 56,
   "id": "aad0a835-dba4-4e67-a778-73c6f2dd36bd",
   "metadata": {},
   "outputs": [],
   "source": [
    "b.loc[s>10] = 'long'"
   ]
  },
  {
   "cell_type": "code",
   "execution_count": 58,
   "id": "853925f5-2f5d-404c-9ef8-e7d16c1679ba",
   "metadata": {},
   "outputs": [
    {
     "data": {
      "text/plain": [
       "1.63\n",
       "short     5889\n",
       "medium    3402\n",
       "long       707\n",
       "Name: count, dtype: int64"
      ]
     },
     "execution_count": 58,
     "metadata": {},
     "output_type": "execute_result"
    }
   ],
   "source": [
    "b.value_counts()"
   ]
  },
  {
   "cell_type": "code",
   "execution_count": 61,
   "id": "bd7a3a60-306e-4f76-baff-646d88d6653a",
   "metadata": {},
   "outputs": [],
   "source": [
    "c = pd.cut(s,\n",
    "           bins=[0, 2, 10, s.max()],\n",
    "           include_lowest=True,\n",
    "           labels=['short', 'medium', 'long'])"
   ]
  },
  {
   "cell_type": "code",
   "execution_count": 62,
   "id": "6c109744-6835-4232-855a-68ca6e60d01c",
   "metadata": {},
   "outputs": [
    {
     "data": {
      "text/plain": [
       "0        short\n",
       "1        short\n",
       "2       medium\n",
       "3        short\n",
       "4        short\n",
       "         ...  \n",
       "9993    medium\n",
       "9994    medium\n",
       "9995    medium\n",
       "9996     short\n",
       "9997    medium\n",
       "Name: 1.63, Length: 9998, dtype: category\n",
       "Categories (3, object): ['short' < 'medium' < 'long']"
      ]
     },
     "execution_count": 62,
     "metadata": {},
     "output_type": "execute_result"
    }
   ],
   "source": [
    "c"
   ]
  },
  {
   "cell_type": "code",
   "execution_count": 63,
   "id": "3a2f3e2d-a600-4492-a799-907cd8102f73",
   "metadata": {},
   "outputs": [
    {
     "data": {
      "text/plain": [
       "1.63\n",
       "short     5889\n",
       "medium    3402\n",
       "long       707\n",
       "Name: count, dtype: int64"
      ]
     },
     "execution_count": 63,
     "metadata": {},
     "output_type": "execute_result"
    }
   ],
   "source": [
    "c.value_counts()"
   ]
  },
  {
   "cell_type": "code",
   "execution_count": null,
   "id": "cedaa515-f7f7-4589-9277-81020ba891a7",
   "metadata": {},
   "outputs": [],
   "source": []
  }
 ],
 "metadata": {
  "kernelspec": {
   "display_name": "Python 3 (ipykernel)",
   "language": "python",
   "name": "python3"
  },
  "language_info": {
   "codemirror_mode": {
    "name": "ipython",
    "version": 3
   },
   "file_extension": ".py",
   "mimetype": "text/x-python",
   "name": "python",
   "nbconvert_exporter": "python",
   "pygments_lexer": "ipython3",
   "version": "3.12.2"
  }
 },
 "nbformat": 4,
 "nbformat_minor": 5
}
