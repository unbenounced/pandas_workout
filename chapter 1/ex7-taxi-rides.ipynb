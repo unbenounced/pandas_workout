{
 "cells": [
  {
   "cell_type": "code",
   "execution_count": 43,
   "id": "3ab8d346-98b7-4627-b7a4-1c0a29e91596",
   "metadata": {},
   "outputs": [],
   "source": [
    "import pandas as pd\n",
    "import numpy as np"
   ]
  },
  {
   "cell_type": "code",
   "execution_count": 68,
   "id": "c4bcdc47-7c56-44b5-a97e-0b5900c80e76",
   "metadata": {},
   "outputs": [],
   "source": [
    "s = pd.read_csv('../data/taxi-distance.csv').squeeze()\n",
    "count = pd.read_csv('../data/taxi-passenger-count.csv').squeeze()"
   ]
  },
  {
   "cell_type": "code",
   "execution_count": 45,
   "id": "cc8a97d4-6b05-4332-904a-46fbd65e2b3a",
   "metadata": {},
   "outputs": [
    {
     "data": {
      "text/plain": [
       "0    0.46\n",
       "1    0.87\n",
       "2    2.13\n",
       "3    1.40\n",
       "4    1.40\n",
       "Name: 1.63, dtype: float64"
      ]
     },
     "execution_count": 45,
     "metadata": {},
     "output_type": "execute_result"
    }
   ],
   "source": [
    "s.head()"
   ]
  },
  {
   "cell_type": "code",
   "execution_count": 28,
   "id": "6becb676-1057-417c-a8b0-6d92deffd9de",
   "metadata": {},
   "outputs": [],
   "source": [
    "a = s.astype(str)"
   ]
  },
  {
   "cell_type": "code",
   "execution_count": 46,
   "id": "c8e269af-378e-41a0-b42e-427af078532c",
   "metadata": {},
   "outputs": [],
   "source": [
    "b = s.astype(str)"
   ]
  },
  {
   "cell_type": "code",
   "execution_count": 49,
   "id": "61deb1a4-ce60-4e52-be3b-0ed88851ceb0",
   "metadata": {},
   "outputs": [],
   "source": [
    "b.loc[:] = 'medium'"
   ]
  },
  {
   "cell_type": "code",
   "execution_count": 52,
   "id": "b339b530-ba23-4e44-8407-14029261f877",
   "metadata": {},
   "outputs": [],
   "source": [
    "b.loc[s<=2] = 'short'"
   ]
  },
  {
   "cell_type": "code",
   "execution_count": 56,
   "id": "aad0a835-dba4-4e67-a778-73c6f2dd36bd",
   "metadata": {},
   "outputs": [],
   "source": [
    "b.loc[s>10] = 'long'"
   ]
  },
  {
   "cell_type": "code",
   "execution_count": 58,
   "id": "853925f5-2f5d-404c-9ef8-e7d16c1679ba",
   "metadata": {},
   "outputs": [
    {
     "data": {
      "text/plain": [
       "1.63\n",
       "short     5889\n",
       "medium    3402\n",
       "long       707\n",
       "Name: count, dtype: int64"
      ]
     },
     "execution_count": 58,
     "metadata": {},
     "output_type": "execute_result"
    }
   ],
   "source": [
    "b.value_counts()"
   ]
  },
  {
   "cell_type": "code",
   "execution_count": 61,
   "id": "bd7a3a60-306e-4f76-baff-646d88d6653a",
   "metadata": {},
   "outputs": [],
   "source": [
    "c = pd.cut(s,\n",
    "           bins=[0, 2, 10, s.max()],\n",
    "           include_lowest=True,\n",
    "           labels=['short', 'medium', 'long'])"
   ]
  },
  {
   "cell_type": "code",
   "execution_count": 62,
   "id": "6c109744-6835-4232-855a-68ca6e60d01c",
   "metadata": {},
   "outputs": [
    {
     "data": {
      "text/plain": [
       "0        short\n",
       "1        short\n",
       "2       medium\n",
       "3        short\n",
       "4        short\n",
       "         ...  \n",
       "9993    medium\n",
       "9994    medium\n",
       "9995    medium\n",
       "9996     short\n",
       "9997    medium\n",
       "Name: 1.63, Length: 9998, dtype: category\n",
       "Categories (3, object): ['short' < 'medium' < 'long']"
      ]
     },
     "execution_count": 62,
     "metadata": {},
     "output_type": "execute_result"
    }
   ],
   "source": [
    "c"
   ]
  },
  {
   "cell_type": "code",
   "execution_count": 63,
   "id": "3a2f3e2d-a600-4492-a799-907cd8102f73",
   "metadata": {},
   "outputs": [
    {
     "data": {
      "text/plain": [
       "1.63\n",
       "short     5889\n",
       "medium    3402\n",
       "long       707\n",
       "Name: count, dtype: int64"
      ]
     },
     "execution_count": 63,
     "metadata": {},
     "output_type": "execute_result"
    }
   ],
   "source": [
    "c.value_counts()"
   ]
  },
  {
   "cell_type": "code",
   "execution_count": 108,
   "id": "cedaa515-f7f7-4589-9277-81020ba891a7",
   "metadata": {},
   "outputs": [
    {
     "name": "stdout",
     "output_type": "stream",
     "text": [
      "3.1586637327465494\n",
      "1.7\n"
     ]
    },
    {
     "data": {
      "text/plain": [
       "count    9998.000000\n",
       "mean        3.158664\n",
       "std         4.037689\n",
       "min         0.000000\n",
       "25%         1.000000\n",
       "50%         1.700000\n",
       "75%         3.300000\n",
       "max        64.600000\n",
       "Name: 1.63, dtype: float64"
      ]
     },
     "execution_count": 108,
     "metadata": {},
     "output_type": "execute_result"
    }
   ],
   "source": [
    "# beyond 1 - the data set is heavily weighed to short drives\n",
    "print(s.mean())\n",
    "print(s.median())\n",
    "s.describe()"
   ]
  },
  {
   "cell_type": "code",
   "execution_count": 103,
   "id": "be7cfea6-0a26-4256-afa7-c69ee93be8a4",
   "metadata": {},
   "outputs": [
    {
     "data": {
      "text/plain": [
       "distance  p_num\n",
       "short     1        4332\n",
       "medium    1        2387\n",
       "long      1         487\n",
       "Name: count, dtype: int64"
      ]
     },
     "execution_count": 103,
     "metadata": {},
     "output_type": "execute_result"
    }
   ],
   "source": [
    "#beyond 2\n",
    "df = pd.concat([c, count], axis=1)\n",
    "df = df.rename(columns={'1.63': 'distance', '1': 'p_num'})\n",
    "df.loc[df['p_num'] == 1].value_counts()"
   ]
  },
  {
   "cell_type": "code",
   "execution_count": 109,
   "id": "c7491b52-8948-49a9-b780-b85ed0cba7da",
   "metadata": {},
   "outputs": [
    {
     "data": {
      "text/plain": [
       "1.63\n",
       "short     4232\n",
       "medium    2445\n",
       "long       529\n",
       "Name: count, dtype: int64"
      ]
     },
     "execution_count": 109,
     "metadata": {},
     "output_type": "execute_result"
    }
   ],
   "source": [
    "passenger_count = pd.read_csv('../data/taxi-passenger-count.csv', header=None).squeeze()\n",
    "\n",
    "pd.cut(s[passenger_count == 1],\n",
    "       bins=[s.min(), 2, 10, s.max()],\n",
    "       include_lowest=True,\n",
    "       labels=['short', 'medium', 'long']).value_counts()"
   ]
  },
  {
   "cell_type": "code",
   "execution_count": 111,
   "id": "217ccc4b-6882-4b0b-ba99-b1543e7c40c9",
   "metadata": {},
   "outputs": [
    {
     "data": {
      "text/plain": [
       "array([-0.0646    , 21.53333333, 43.06666667, 64.6       ])"
      ]
     },
     "execution_count": 111,
     "metadata": {},
     "output_type": "execute_result"
    }
   ],
   "source": [
    "#beyond 3\n",
    "pd.cut(s, \n",
    "       bins=3,\n",
    "      labels=['short', 'medium', 'long'], retbins=True)[-1]"
   ]
  },
  {
   "cell_type": "code",
   "execution_count": 112,
   "id": "019581f1-abce-4a04-9f57-a1347a4875e8",
   "metadata": {},
   "outputs": [
    {
     "data": {
      "text/plain": [
       "1.63\n",
       "short     7169\n",
       "medium      35\n",
       "long         2\n",
       "Name: count, dtype: int64"
      ]
     },
     "execution_count": 112,
     "metadata": {},
     "output_type": "execute_result"
    }
   ],
   "source": [
    "pd.cut(s[passenger_count ==1],\n",
    "       bins=3,\n",
    "       labels=['short', 'medium', 'long']).value_counts()"
   ]
  },
  {
   "cell_type": "code",
   "execution_count": null,
   "id": "332273d4-68fa-42b6-a091-6f4692e1b03b",
   "metadata": {},
   "outputs": [],
   "source": []
  }
 ],
 "metadata": {
  "kernelspec": {
   "display_name": "Python 3 (ipykernel)",
   "language": "python",
   "name": "python3"
  },
  "language_info": {
   "codemirror_mode": {
    "name": "ipython",
    "version": 3
   },
   "file_extension": ".py",
   "mimetype": "text/x-python",
   "name": "python",
   "nbconvert_exporter": "python",
   "pygments_lexer": "ipython3",
   "version": "3.12.2"
  }
 },
 "nbformat": 4,
 "nbformat_minor": 5
}
