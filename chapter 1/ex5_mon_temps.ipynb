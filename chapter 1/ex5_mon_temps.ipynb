{
 "cells": [
  {
   "cell_type": "code",
   "execution_count": 1,
   "id": "8a60eec4-eb96-4b4d-a850-82b42860fa6a",
   "metadata": {},
   "outputs": [],
   "source": [
    "import numpy as np\n",
    "import pandas as pd"
   ]
  },
  {
   "cell_type": "code",
   "execution_count": 14,
   "id": "20efd054-4b84-4d81-bbb2-4a3d3160c32f",
   "metadata": {},
   "outputs": [],
   "source": [
    "g = np.random.default_rng(0)\n",
    "i = ['sun', 'mon', 'tues', 'wed', 'thu', 'fri', 'sat']\n",
    "d = g.normal(20, 5, 28).round().astype(np.int8)\n",
    "\n",
    "t = pd.Series(d, i * 4)"
   ]
  },
  {
   "cell_type": "code",
   "execution_count": 16,
   "id": "846d5e6e-cfbb-4b4f-9161-b8ea8efdcd0f",
   "metadata": {},
   "outputs": [
    {
     "data": {
      "text/plain": [
       "17.0"
      ]
     },
     "execution_count": 16,
     "metadata": {},
     "output_type": "execute_result"
    }
   ],
   "source": [
    "t['mon'].mean()"
   ]
  },
  {
   "cell_type": "code",
   "execution_count": 19,
   "id": "69c8a709-f016-4b44-958f-319407b787dd",
   "metadata": {},
   "outputs": [
    {
     "data": {
      "text/plain": [
       "20.875"
      ]
     },
     "execution_count": 19,
     "metadata": {},
     "output_type": "execute_result"
    }
   ],
   "source": [
    "# beyond 1\n",
    "t.loc[['sun', 'sat']].mean()"
   ]
  },
  {
   "cell_type": "code",
   "execution_count": 21,
   "id": "611b9bf5-0571-4290-a776-c0a7f1de4872",
   "metadata": {},
   "outputs": [
    {
     "data": {
      "text/plain": [
       "sun     21\n",
       "mon     19\n",
       "tues    23\n",
       "wed     21\n",
       "thu     17\n",
       "fri     22\n",
       "sat     27\n",
       "sun     25\n",
       "mon     16\n",
       "tues    14\n",
       "wed     17\n",
       "thu     20\n",
       "fri      8\n",
       "sat     19\n",
       "sun     14\n",
       "mon     16\n",
       "tues    17\n",
       "wed     18\n",
       "thu     22\n",
       "fri     25\n",
       "sat     19\n",
       "sun     27\n",
       "mon     17\n",
       "tues    22\n",
       "wed     25\n",
       "thu     20\n",
       "fri     16\n",
       "sat     15\n",
       "dtype: int8"
      ]
     },
     "execution_count": 21,
     "metadata": {},
     "output_type": "execute_result"
    }
   ],
   "source": [
    "t"
   ]
  },
  {
   "cell_type": "code",
   "execution_count": 23,
   "id": "ec7746e4-e2d4-459b-995a-cc40f107710f",
   "metadata": {},
   "outputs": [],
   "source": [
    "r = t.diff()"
   ]
  },
  {
   "cell_type": "code",
   "execution_count": 42,
   "id": "1877f471-ced1-4002-aee3-8008a01b902a",
   "metadata": {},
   "outputs": [
    {
     "data": {
      "text/plain": [
       "19"
      ]
     },
     "execution_count": 42,
     "metadata": {},
     "output_type": "execute_result"
    }
   ],
   "source": [
    "# beyond 2\n",
    "r.loc[(r > 2) | (r < -2)].count()"
   ]
  },
  {
   "cell_type": "code",
   "execution_count": 43,
   "id": "7ec05768-b795-410d-a311-83e5f79d1e4b",
   "metadata": {},
   "outputs": [],
   "source": [
    "# beyond 3"
   ]
  },
  {
   "cell_type": "code",
   "execution_count": 49,
   "id": "30ec7df5-e22b-4f1b-8bc5-183227993491",
   "metadata": {},
   "outputs": [
    {
     "data": {
      "text/plain": [
       "17    4\n",
       "19    3\n",
       "22    3\n",
       "25    3\n",
       "16    3\n",
       "21    2\n",
       "27    2\n",
       "14    2\n",
       "20    2\n",
       "23    1\n",
       "8     1\n",
       "18    1\n",
       "15    1\n",
       "Name: count, dtype: int64"
      ]
     },
     "execution_count": 49,
     "metadata": {},
     "output_type": "execute_result"
    }
   ],
   "source": [
    "t.value_counts()"
   ]
  },
  {
   "cell_type": "code",
   "execution_count": null,
   "id": "8dd56bf3-e604-4047-b3f4-b4720b87a43a",
   "metadata": {},
   "outputs": [],
   "source": []
  }
 ],
 "metadata": {
  "kernelspec": {
   "display_name": "Python 3 (ipykernel)",
   "language": "python",
   "name": "python3"
  },
  "language_info": {
   "codemirror_mode": {
    "name": "ipython",
    "version": 3
   },
   "file_extension": ".py",
   "mimetype": "text/x-python",
   "name": "python",
   "nbconvert_exporter": "python",
   "pygments_lexer": "ipython3",
   "version": "3.12.2"
  }
 },
 "nbformat": 4,
 "nbformat_minor": 5
}
