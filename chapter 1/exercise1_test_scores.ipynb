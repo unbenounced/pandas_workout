{
 "cells": [
  {
   "cell_type": "code",
   "execution_count": 1,
   "id": "a9de4d53-2a06-4aea-ba1b-a33a8ac2e84f",
   "metadata": {},
   "outputs": [],
   "source": [
    "import pandas as pd\n",
    "import numpy as np"
   ]
  },
  {
   "cell_type": "code",
   "execution_count": 38,
   "id": "39359bc2-2c34-4a0b-b6eb-7d912f9ceeaa",
   "metadata": {},
   "outputs": [],
   "source": [
    "data = np.random.default_rng(0)\n",
    "test_scores = data.integers(low=70, high=101, size=10)\n",
    "\n",
    "months = ['sept', 'oct', 'nov', 'dec', 'jan', 'feb', 'mar', 'apr', 'may', 'june'] "
   ]
  },
  {
   "cell_type": "code",
   "execution_count": 39,
   "id": "9c084d7b-5033-4128-9d28-235efd8c154d",
   "metadata": {},
   "outputs": [
    {
     "data": {
      "text/plain": [
       "sept    96\n",
       "oct     89\n",
       "nov     85\n",
       "dec     78\n",
       "jan     79\n",
       "feb     71\n",
       "mar     72\n",
       "apr     70\n",
       "may     75\n",
       "june    95\n",
       "dtype: int64"
      ]
     },
     "execution_count": 39,
     "metadata": {},
     "output_type": "execute_result"
    }
   ],
   "source": [
    "scores = pd.Series(test_scores, months)\n",
    "scores"
   ]
  },
  {
   "cell_type": "code",
   "execution_count": 40,
   "id": "f4f981bc-7bb7-47d4-8c8b-f459acd4e29d",
   "metadata": {},
   "outputs": [
    {
     "data": {
      "text/plain": [
       "-8.800000000000011"
      ]
     },
     "execution_count": 40,
     "metadata": {},
     "output_type": "execute_result"
    }
   ],
   "source": [
    "avg_score = scores.mean() # avg test score for the entire year\n",
    "first_half = scores[:5].mean() # avg test score for the first half of the year\n",
    "second_half = scores[5:].mean() # avg test score for the second half of the year\n",
    "second_half - first_half"
   ]
  },
  {
   "cell_type": "code",
   "execution_count": 41,
   "id": "92040e52-b6e6-46a6-8397-88d50bff76c1",
   "metadata": {},
   "outputs": [
    {
     "name": "stdout",
     "output_type": "stream",
     "text": [
      "85.4 first half\n",
      "76.6 second half\n"
     ]
    }
   ],
   "source": [
    "print(first_half , 'first half')\n",
    "print(second_half, 'second half')\n"
   ]
  },
  {
   "cell_type": "code",
   "execution_count": 51,
   "id": "d31ecfa6-2fd6-4596-9d21-9de2f065337b",
   "metadata": {},
   "outputs": [
    {
     "data": {
      "text/plain": [
       "sept    96\n",
       "june    95\n",
       "oct     89\n",
       "nov     85\n",
       "jan     79\n",
       "dec     78\n",
       "may     75\n",
       "mar     72\n",
       "feb     71\n",
       "apr     70\n",
       "dtype: int64"
      ]
     },
     "execution_count": 51,
     "metadata": {},
     "output_type": "execute_result"
    }
   ],
   "source": [
    "scores.sort_values(ascending=False)"
   ]
  }
 ],
 "metadata": {
  "kernelspec": {
   "display_name": "Python 3 (ipykernel)",
   "language": "python",
   "name": "python3"
  },
  "language_info": {
   "codemirror_mode": {
    "name": "ipython",
    "version": 3
   },
   "file_extension": ".py",
   "mimetype": "text/x-python",
   "name": "python",
   "nbconvert_exporter": "python",
   "pygments_lexer": "ipython3",
   "version": "3.12.7"
  }
 },
 "nbformat": 4,
 "nbformat_minor": 5
}
