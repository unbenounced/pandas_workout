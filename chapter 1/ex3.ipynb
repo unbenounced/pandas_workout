{
 "cells": [
  {
   "cell_type": "code",
   "execution_count": 2,
   "id": "a37025b1-bddc-4314-bdc7-410e40576a63",
   "metadata": {},
   "outputs": [],
   "source": [
    "import pandas as pd\n",
    "import numpy as np"
   ]
  },
  {
   "cell_type": "code",
   "execution_count": 3,
   "id": "017089ee-66a3-4488-ac16-3d705475d798",
   "metadata": {},
   "outputs": [],
   "source": [
    "nums = np.random.default_rng()\n",
    "s = nums.integers(0, 100, 10)\n",
    "d = pd.Series(s)"
   ]
  },
  {
   "cell_type": "code",
   "execution_count": 4,
   "id": "2ae660cb-293d-484d-890f-3e14d822e2f1",
   "metadata": {},
   "outputs": [
    {
     "data": {
      "text/plain": [
       "0    45\n",
       "1    94\n",
       "2    74\n",
       "3    52\n",
       "4    94\n",
       "5    51\n",
       "6    84\n",
       "7    70\n",
       "8     6\n",
       "9    77\n",
       "dtype: int64"
      ]
     },
     "execution_count": 4,
     "metadata": {},
     "output_type": "execute_result"
    }
   ],
   "source": [
    "d"
   ]
  },
  {
   "cell_type": "code",
   "execution_count": 5,
   "id": "d5ad0b91-64fc-4ab7-a270-87cc4be28dd7",
   "metadata": {},
   "outputs": [
    {
     "data": {
      "text/plain": [
       "0    4\n",
       "1    9\n",
       "2    7\n",
       "3    5\n",
       "4    9\n",
       "5    5\n",
       "6    8\n",
       "7    7\n",
       "8    6\n",
       "9    7\n",
       "dtype: int64"
      ]
     },
     "execution_count": 5,
     "metadata": {},
     "output_type": "execute_result"
    }
   ],
   "source": [
    "d.astype(str).str[0].astype(int)"
   ]
  },
  {
   "cell_type": "code",
   "execution_count": 6,
   "id": "b7e1d92e-aeff-46be-ad61-8140a42a7da0",
   "metadata": {},
   "outputs": [],
   "source": [
    "# books solution\n",
    "n = d // 10"
   ]
  },
  {
   "cell_type": "code",
   "execution_count": 38,
   "id": "0a827b61-fa29-4ba8-bbbd-ae9bf3b9a2ef",
   "metadata": {},
   "outputs": [
    {
     "data": {
      "text/plain": [
       "0    0\n",
       "1    8\n",
       "2    1\n",
       "3    7\n",
       "4    0\n",
       "5    2\n",
       "6    6\n",
       "7    9\n",
       "8    6\n",
       "9    3\n",
       "dtype: int64"
      ]
     },
     "execution_count": 38,
     "metadata": {},
     "output_type": "execute_result"
    }
   ],
   "source": [
    "n"
   ]
  },
  {
   "cell_type": "markdown",
   "id": "227de8db-4919-4f4d-b99a-b0a447423b84",
   "metadata": {},
   "source": [
    "# Beyond 1"
   ]
  },
  {
   "cell_type": "code",
   "execution_count": 7,
   "id": "3fbdfd83-4990-43f3-ac58-26de4c25f405",
   "metadata": {},
   "outputs": [],
   "source": [
    "nums2 = np.random.default_rng()\n",
    "s2 = nums.integers(0, 10000, 10)\n",
    "d2 = pd.Series(s2)"
   ]
  },
  {
   "cell_type": "code",
   "execution_count": 8,
   "id": "7c7de831-f725-4467-b2f9-6cac0625bbd8",
   "metadata": {},
   "outputs": [
    {
     "data": {
      "text/plain": [
       "0    1081\n",
       "1    4324\n",
       "2    4286\n",
       "3    7581\n",
       "4    2712\n",
       "5     717\n",
       "6    3351\n",
       "7    8256\n",
       "8    2416\n",
       "9     100\n",
       "dtype: int64"
      ]
     },
     "execution_count": 8,
     "metadata": {},
     "output_type": "execute_result"
    }
   ],
   "source": [
    "d2"
   ]
  },
  {
   "cell_type": "code",
   "execution_count": 9,
   "id": "998cd6b5-a8ae-41d3-bea2-edeb09d994cf",
   "metadata": {},
   "outputs": [
    {
     "data": {
      "text/plain": [
       "0    1\n",
       "1    4\n",
       "2    6\n",
       "3    1\n",
       "4    2\n",
       "5    7\n",
       "6    1\n",
       "7    6\n",
       "8    6\n",
       "9    0\n",
       "dtype: object"
      ]
     },
     "execution_count": 9,
     "metadata": {},
     "output_type": "execute_result"
    }
   ],
   "source": [
    "d2.astype(str).str[-1]"
   ]
  },
  {
   "cell_type": "markdown",
   "id": "ff5e69eb-11d6-4ee1-ba2d-47ce4dc60be5",
   "metadata": {},
   "source": [
    "# Beyond 2"
   ]
  },
  {
   "cell_type": "markdown",
   "id": "ee24ed21-4544-4b79-a4fa-2b5188904d6b",
   "metadata": {},
   "source": [
    "The smallest type would be int16"
   ]
  },
  {
   "cell_type": "markdown",
   "id": "50eeabf6-f244-4b59-8633-98845d804bb1",
   "metadata": {},
   "source": [
    "# Beyond 3"
   ]
  },
  {
   "cell_type": "code",
   "execution_count": 22,
   "id": "3030440d-84e4-43d8-b363-e61b3212a357",
   "metadata": {},
   "outputs": [],
   "source": [
    "b3 = np.random.rand(10) * 1000\n",
    "b3_int = b3.astype(int)"
   ]
  },
  {
   "cell_type": "code",
   "execution_count": 21,
   "id": "7ddb13b9-a715-4706-a201-dd50e1ada14d",
   "metadata": {},
   "outputs": [
    {
     "data": {
      "text/plain": [
       "array([826, 782, 584,  58])"
      ]
     },
     "execution_count": 21,
     "metadata": {},
     "output_type": "execute_result"
    }
   ],
   "source": [
    "b3_int[b3_int % 2 == 0]"
   ]
  },
  {
   "cell_type": "code",
   "execution_count": null,
   "id": "85ec072c-3c85-45de-8ac6-cc5295193475",
   "metadata": {},
   "outputs": [],
   "source": []
  }
 ],
 "metadata": {
  "kernelspec": {
   "display_name": "Python 3 (ipykernel)",
   "language": "python",
   "name": "python3"
  },
  "language_info": {
   "codemirror_mode": {
    "name": "ipython",
    "version": 3
   },
   "file_extension": ".py",
   "mimetype": "text/x-python",
   "name": "python",
   "nbconvert_exporter": "python",
   "pygments_lexer": "ipython3",
   "version": "3.12.7"
  }
 },
 "nbformat": 4,
 "nbformat_minor": 5
}
