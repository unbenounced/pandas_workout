{
 "cells": [
  {
   "cell_type": "code",
   "execution_count": 1,
   "id": "a37025b1-bddc-4314-bdc7-410e40576a63",
   "metadata": {},
   "outputs": [],
   "source": [
    "import pandas as pd\n",
    "import numpy as np"
   ]
  },
  {
   "cell_type": "code",
   "execution_count": 20,
   "id": "017089ee-66a3-4488-ac16-3d705475d798",
   "metadata": {},
   "outputs": [],
   "source": [
    "nums = np.random.default_rng()\n",
    "s = nums.integers(0, 100, 10)\n",
    "d = pd.Series(s)"
   ]
  },
  {
   "cell_type": "code",
   "execution_count": 23,
   "id": "2ae660cb-293d-484d-890f-3e14d822e2f1",
   "metadata": {},
   "outputs": [
    {
     "data": {
      "text/plain": [
       "0     1\n",
       "1    86\n",
       "2    19\n",
       "3    76\n",
       "4     2\n",
       "5    24\n",
       "6    68\n",
       "7    97\n",
       "8    66\n",
       "9    33\n",
       "dtype: int64"
      ]
     },
     "execution_count": 23,
     "metadata": {},
     "output_type": "execute_result"
    }
   ],
   "source": [
    "d"
   ]
  },
  {
   "cell_type": "code",
   "execution_count": 26,
   "id": "d5ad0b91-64fc-4ab7-a270-87cc4be28dd7",
   "metadata": {},
   "outputs": [
    {
     "data": {
      "text/plain": [
       "0    1\n",
       "1    8\n",
       "2    1\n",
       "3    7\n",
       "4    2\n",
       "5    2\n",
       "6    6\n",
       "7    9\n",
       "8    6\n",
       "9    3\n",
       "dtype: int64"
      ]
     },
     "execution_count": 26,
     "metadata": {},
     "output_type": "execute_result"
    }
   ],
   "source": [
    "d.astype(str).str[0].astype(int)"
   ]
  },
  {
   "cell_type": "code",
   "execution_count": 37,
   "id": "b7e1d92e-aeff-46be-ad61-8140a42a7da0",
   "metadata": {},
   "outputs": [],
   "source": [
    "# books solution\n",
    "n = d // 10"
   ]
  },
  {
   "cell_type": "code",
   "execution_count": 38,
   "id": "0a827b61-fa29-4ba8-bbbd-ae9bf3b9a2ef",
   "metadata": {},
   "outputs": [
    {
     "data": {
      "text/plain": [
       "0    0\n",
       "1    8\n",
       "2    1\n",
       "3    7\n",
       "4    0\n",
       "5    2\n",
       "6    6\n",
       "7    9\n",
       "8    6\n",
       "9    3\n",
       "dtype: int64"
      ]
     },
     "execution_count": 38,
     "metadata": {},
     "output_type": "execute_result"
    }
   ],
   "source": [
    "n"
   ]
  }
 ],
 "metadata": {
  "kernelspec": {
   "display_name": "Python 3 (ipykernel)",
   "language": "python",
   "name": "python3"
  },
  "language_info": {
   "codemirror_mode": {
    "name": "ipython",
    "version": 3
   },
   "file_extension": ".py",
   "mimetype": "text/x-python",
   "name": "python",
   "nbconvert_exporter": "python",
   "pygments_lexer": "ipython3",
   "version": "3.12.7"
  }
 },
 "nbformat": 4,
 "nbformat_minor": 5
}
